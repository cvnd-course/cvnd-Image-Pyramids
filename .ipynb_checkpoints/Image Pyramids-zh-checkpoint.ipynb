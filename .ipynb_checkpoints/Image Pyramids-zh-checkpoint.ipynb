{
 "cells": [
  {
   "cell_type": "markdown",
   "metadata": {},
   "source": [
    "## 图像金字塔\n",
    "\n",
    "这里，我们要看一看图像金字塔下采样的原理是什么。\n",
    "\n",
    "首先，读入图像，然后构建并显示图像金字塔的几个层。"
   ]
  },
  {
   "cell_type": "code",
   "execution_count": null,
   "metadata": {},
   "outputs": [],
   "source": [
    "import numpy as np\n",
    "import matplotlib.pyplot as plt\n",
    "import cv2\n",
    "\n",
    "%matplotlib inline\n",
    "\n",
    "# Read in the image\n",
    "image = cv2.imread('images/rainbow_flag.jpg')\n",
    "\n",
    "# Change color to RGB (from BGR)\n",
    "image = cv2.cvtColor(image, cv2.COLOR_BGR2RGB)\n",
    "\n",
    "plt.imshow(image)"
   ]
  },
  {
   "cell_type": "code",
   "execution_count": null,
   "metadata": {},
   "outputs": [],
   "source": [
    "level_1 = cv2.pyrDown(image)\n",
    "level_2 = cv2.pyrDown(level_1)\n",
    "level_3 = cv2.pyrDown(level_2)\n",
    "\n",
    "# Display the images\n",
    "f, (ax1,ax2,ax3,ax4) = plt.subplots(1, 4, figsize=(20,10))\n",
    "\n",
    "ax1.set_title('original')\n",
    "ax1.imshow(image)\n",
    "\n",
    "ax2.imshow(level_1)\n",
    "ax2.set_xlim([0, image.shape[1]])\n",
    "ax2.set_ylim([image.shape[0], 0])\n",
    "\n",
    "ax3.imshow(level_2)\n",
    "ax3.set_xlim([0, image.shape[1]])\n",
    "ax3.set_ylim([image.shape[0], 0])\n",
    "\n",
    "ax4.imshow(level_3)\n",
    "ax4.set_xlim([0, image.shape[1]])\n",
    "ax4.set_ylim([image.shape[0], 0])\n"
   ]
  }
 ],
 "metadata": {},
 "nbformat": 4,
 "nbformat_minor": 2
}
